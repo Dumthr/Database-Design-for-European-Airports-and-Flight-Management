{
 "cells": [
  {
   "cell_type": "code",
   "execution_count": 1,
   "id": "55adaf09-dfd4-4309-81e8-d44b945b0022",
   "metadata": {},
   "outputs": [],
   "source": [
    "import requests\n",
    "import pandas as pd"
   ]
  },
  {
   "cell_type": "code",
   "execution_count": 2,
   "id": "30211b98-0e5b-439e-8ca1-c8f6db854f76",
   "metadata": {},
   "outputs": [],
   "source": [
    "url = \"https://opensky-network.org/api/states/all\""
   ]
  },
  {
   "cell_type": "code",
   "execution_count": 3,
   "id": "06af9c05-12a1-455c-93a3-dad8a637c122",
   "metadata": {},
   "outputs": [],
   "source": [
    "response = requests.get(url)\n",
    "data = response.json()"
   ]
  },
  {
   "cell_type": "code",
   "execution_count": 10,
   "id": "46f46b5b-77f5-48c1-b1ce-381dc4a35f00",
   "metadata": {},
   "outputs": [],
   "source": [
    "columns = [\"icao24\", \"callsign\", \"origin_country\", \"time_position\", \"longitude\", \"latitude\", \"velocity\", \"altitude\"]\n",
    "flights = [dict(zip(columns, flight[:len(columns)])) for flight in data[\"states\"]]"
   ]
  },
  {
   "cell_type": "code",
   "execution_count": 11,
   "id": "45a1a262-cfcd-489f-8ab1-79635fe947f7",
   "metadata": {},
   "outputs": [],
   "source": [
    "df = pd.DataFrame(flights)"
   ]
  },
  {
   "cell_type": "code",
   "execution_count": 12,
   "id": "162cd757-ecf4-4f77-aea9-342730518fac",
   "metadata": {},
   "outputs": [
    {
     "data": {
      "text/html": [
       "<div>\n",
       "<style scoped>\n",
       "    .dataframe tbody tr th:only-of-type {\n",
       "        vertical-align: middle;\n",
       "    }\n",
       "\n",
       "    .dataframe tbody tr th {\n",
       "        vertical-align: top;\n",
       "    }\n",
       "\n",
       "    .dataframe thead th {\n",
       "        text-align: right;\n",
       "    }\n",
       "</style>\n",
       "<table border=\"1\" class=\"dataframe\">\n",
       "  <thead>\n",
       "    <tr style=\"text-align: right;\">\n",
       "      <th></th>\n",
       "      <th>icao24</th>\n",
       "      <th>callsign</th>\n",
       "      <th>origin_country</th>\n",
       "      <th>time_position</th>\n",
       "      <th>longitude</th>\n",
       "      <th>latitude</th>\n",
       "      <th>velocity</th>\n",
       "      <th>altitude</th>\n",
       "    </tr>\n",
       "  </thead>\n",
       "  <tbody>\n",
       "    <tr>\n",
       "      <th>0</th>\n",
       "      <td>4b1818</td>\n",
       "      <td>SWR795Z</td>\n",
       "      <td>Switzerland</td>\n",
       "      <td>1.742505e+09</td>\n",
       "      <td>1742504540</td>\n",
       "      <td>8.1920</td>\n",
       "      <td>45.2312</td>\n",
       "      <td>11079.48</td>\n",
       "    </tr>\n",
       "    <tr>\n",
       "      <th>1</th>\n",
       "      <td>ab1644</td>\n",
       "      <td>UAL221</td>\n",
       "      <td>United States</td>\n",
       "      <td>1.742505e+09</td>\n",
       "      <td>1742504539</td>\n",
       "      <td>-104.4115</td>\n",
       "      <td>35.3429</td>\n",
       "      <td>10050.78</td>\n",
       "    </tr>\n",
       "    <tr>\n",
       "      <th>2</th>\n",
       "      <td>e8027e</td>\n",
       "      <td>LPE2110</td>\n",
       "      <td>Chile</td>\n",
       "      <td>1.742505e+09</td>\n",
       "      <td>1742504539</td>\n",
       "      <td>-77.1218</td>\n",
       "      <td>-12.2346</td>\n",
       "      <td>2926.08</td>\n",
       "    </tr>\n",
       "    <tr>\n",
       "      <th>3</th>\n",
       "      <td>408120</td>\n",
       "      <td>VIR21K</td>\n",
       "      <td>United Kingdom</td>\n",
       "      <td>1.742505e+09</td>\n",
       "      <td>1742504539</td>\n",
       "      <td>-71.8917</td>\n",
       "      <td>42.6015</td>\n",
       "      <td>12192.00</td>\n",
       "    </tr>\n",
       "    <tr>\n",
       "      <th>4</th>\n",
       "      <td>aa56db</td>\n",
       "      <td>UAL2616</td>\n",
       "      <td>United States</td>\n",
       "      <td>1.742505e+09</td>\n",
       "      <td>1742504540</td>\n",
       "      <td>-87.4601</td>\n",
       "      <td>32.6467</td>\n",
       "      <td>9997.44</td>\n",
       "    </tr>\n",
       "  </tbody>\n",
       "</table>\n",
       "</div>"
      ],
      "text/plain": [
       "   icao24  callsign  origin_country  time_position   longitude  latitude  \\\n",
       "0  4b1818  SWR795Z      Switzerland   1.742505e+09  1742504540    8.1920   \n",
       "1  ab1644  UAL221     United States   1.742505e+09  1742504539 -104.4115   \n",
       "2  e8027e  LPE2110            Chile   1.742505e+09  1742504539  -77.1218   \n",
       "3  408120  VIR21K    United Kingdom   1.742505e+09  1742504539  -71.8917   \n",
       "4  aa56db  UAL2616    United States   1.742505e+09  1742504540  -87.4601   \n",
       "\n",
       "   velocity  altitude  \n",
       "0   45.2312  11079.48  \n",
       "1   35.3429  10050.78  \n",
       "2  -12.2346   2926.08  \n",
       "3   42.6015  12192.00  \n",
       "4   32.6467   9997.44  "
      ]
     },
     "execution_count": 12,
     "metadata": {},
     "output_type": "execute_result"
    }
   ],
   "source": [
    "df.head()"
   ]
  },
  {
   "cell_type": "code",
   "execution_count": 13,
   "id": "80cbdc06-a32e-4b25-a303-49fec4460c3b",
   "metadata": {},
   "outputs": [
    {
     "data": {
      "text/plain": [
       "<bound method Series.unique of 0          Switzerland\n",
       "1        United States\n",
       "2                Chile\n",
       "3       United Kingdom\n",
       "4        United States\n",
       "             ...      \n",
       "9995     United States\n",
       "9996     United States\n",
       "9997     United States\n",
       "9998          Colombia\n",
       "9999     United States\n",
       "Name: origin_country, Length: 10000, dtype: object>"
      ]
     },
     "execution_count": 13,
     "metadata": {},
     "output_type": "execute_result"
    }
   ],
   "source": [
    "df['origin_country'].unique"
   ]
  },
  {
   "cell_type": "code",
   "execution_count": 14,
   "id": "e447dd07-f6c1-4e05-85a7-d595cc7a6742",
   "metadata": {},
   "outputs": [],
   "source": [
    "europe_countries = {\n",
    "    \"Switzerland\", \"United Kingdom\", \"France\", \"Germany\", \"Italy\", \"Spain\", \"Netherlands\",\n",
    "    \"Belgium\", \"Austria\", \"Sweden\", \"Poland\", \"Norway\", \"Finland\", \"Denmark\", \"Portugal\", \n",
    "    \"Ireland\", \"Czech Republic\", \"Hungary\", \"Greece\", \"Slovakia\", \"Slovenia\", \"Romania\",\n",
    "    \"Bulgaria\", \"Croatia\", \"Lithuania\", \"Latvia\", \"Estonia\", \"Luxembourg\", \"Malta\", \"Cyprus\"\n",
    "}"
   ]
  },
  {
   "cell_type": "code",
   "execution_count": 15,
   "id": "91ab88ac-3696-4503-aa8f-d172a353e67b",
   "metadata": {},
   "outputs": [],
   "source": [
    "df_europe = df[df[\"origin_country\"].isin(europe_countries)]"
   ]
  },
  {
   "cell_type": "code",
   "execution_count": 16,
   "id": "d3cfaec2-8c58-4936-a4b4-bbea6f32f2ce",
   "metadata": {},
   "outputs": [
    {
     "data": {
      "text/html": [
       "<div>\n",
       "<style scoped>\n",
       "    .dataframe tbody tr th:only-of-type {\n",
       "        vertical-align: middle;\n",
       "    }\n",
       "\n",
       "    .dataframe tbody tr th {\n",
       "        vertical-align: top;\n",
       "    }\n",
       "\n",
       "    .dataframe thead th {\n",
       "        text-align: right;\n",
       "    }\n",
       "</style>\n",
       "<table border=\"1\" class=\"dataframe\">\n",
       "  <thead>\n",
       "    <tr style=\"text-align: right;\">\n",
       "      <th></th>\n",
       "      <th>icao24</th>\n",
       "      <th>callsign</th>\n",
       "      <th>origin_country</th>\n",
       "      <th>time_position</th>\n",
       "      <th>longitude</th>\n",
       "      <th>latitude</th>\n",
       "      <th>velocity</th>\n",
       "      <th>altitude</th>\n",
       "    </tr>\n",
       "  </thead>\n",
       "  <tbody>\n",
       "    <tr>\n",
       "      <th>0</th>\n",
       "      <td>4b1818</td>\n",
       "      <td>SWR795Z</td>\n",
       "      <td>Switzerland</td>\n",
       "      <td>1.742505e+09</td>\n",
       "      <td>1742504540</td>\n",
       "      <td>8.1920</td>\n",
       "      <td>45.2312</td>\n",
       "      <td>11079.48</td>\n",
       "    </tr>\n",
       "    <tr>\n",
       "      <th>3</th>\n",
       "      <td>408120</td>\n",
       "      <td>VIR21K</td>\n",
       "      <td>United Kingdom</td>\n",
       "      <td>1.742505e+09</td>\n",
       "      <td>1742504539</td>\n",
       "      <td>-71.8917</td>\n",
       "      <td>42.6015</td>\n",
       "      <td>12192.00</td>\n",
       "    </tr>\n",
       "    <tr>\n",
       "      <th>6</th>\n",
       "      <td>39de4b</td>\n",
       "      <td>TVF66GM</td>\n",
       "      <td>France</td>\n",
       "      <td>1.742505e+09</td>\n",
       "      <td>1742504540</td>\n",
       "      <td>1.8362</td>\n",
       "      <td>48.5024</td>\n",
       "      <td>2011.68</td>\n",
       "    </tr>\n",
       "    <tr>\n",
       "      <th>7</th>\n",
       "      <td>39de4a</td>\n",
       "      <td>TVF14DR</td>\n",
       "      <td>France</td>\n",
       "      <td>1.742505e+09</td>\n",
       "      <td>1742504540</td>\n",
       "      <td>1.9553</td>\n",
       "      <td>48.5916</td>\n",
       "      <td>1638.30</td>\n",
       "    </tr>\n",
       "    <tr>\n",
       "      <th>9</th>\n",
       "      <td>4b1812</td>\n",
       "      <td>SWR24C</td>\n",
       "      <td>Switzerland</td>\n",
       "      <td>1.742505e+09</td>\n",
       "      <td>1742504539</td>\n",
       "      <td>3.7558</td>\n",
       "      <td>48.8934</td>\n",
       "      <td>10972.80</td>\n",
       "    </tr>\n",
       "  </tbody>\n",
       "</table>\n",
       "</div>"
      ],
      "text/plain": [
       "   icao24  callsign  origin_country  time_position   longitude  latitude  \\\n",
       "0  4b1818  SWR795Z      Switzerland   1.742505e+09  1742504540    8.1920   \n",
       "3  408120  VIR21K    United Kingdom   1.742505e+09  1742504539  -71.8917   \n",
       "6  39de4b  TVF66GM           France   1.742505e+09  1742504540    1.8362   \n",
       "7  39de4a  TVF14DR           France   1.742505e+09  1742504540    1.9553   \n",
       "9  4b1812  SWR24C       Switzerland   1.742505e+09  1742504539    3.7558   \n",
       "\n",
       "   velocity  altitude  \n",
       "0   45.2312  11079.48  \n",
       "3   42.6015  12192.00  \n",
       "6   48.5024   2011.68  \n",
       "7   48.5916   1638.30  \n",
       "9   48.8934  10972.80  "
      ]
     },
     "execution_count": 16,
     "metadata": {},
     "output_type": "execute_result"
    }
   ],
   "source": [
    "df_europe.head()"
   ]
  },
  {
   "cell_type": "code",
   "execution_count": null,
   "id": "68a66eba-e600-49a3-bc72-274f3c7286e4",
   "metadata": {},
   "outputs": [],
   "source": [
    "df_europe.to_df"
   ]
  }
 ],
 "metadata": {
  "kernelspec": {
   "display_name": "Python 3 (ipykernel)",
   "language": "python",
   "name": "python3"
  },
  "language_info": {
   "codemirror_mode": {
    "name": "ipython",
    "version": 3
   },
   "file_extension": ".py",
   "mimetype": "text/x-python",
   "name": "python",
   "nbconvert_exporter": "python",
   "pygments_lexer": "ipython3",
   "version": "3.12.7"
  }
 },
 "nbformat": 4,
 "nbformat_minor": 5
}
