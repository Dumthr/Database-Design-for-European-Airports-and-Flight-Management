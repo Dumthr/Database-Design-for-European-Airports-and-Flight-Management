{
 "cells": [
  {
   "cell_type": "code",
   "execution_count": 1,
   "id": "03f661a5-ef1a-4270-897a-8f6b2f41a9ed",
   "metadata": {},
   "outputs": [],
   "source": [
    "import pandas as pd"
   ]
  },
  {
   "cell_type": "code",
   "execution_count": 2,
   "id": "b2407c3b-c085-4377-a3c1-097241251691",
   "metadata": {},
   "outputs": [],
   "source": [
    "df = pd.read_csv(\"european_airports.csv\")"
   ]
  },
  {
   "cell_type": "code",
   "execution_count": 3,
   "id": "dd811d91-62c4-423b-b593-8e719e1330db",
   "metadata": {},
   "outputs": [
    {
     "data": {
      "text/html": [
       "<div>\n",
       "<style scoped>\n",
       "    .dataframe tbody tr th:only-of-type {\n",
       "        vertical-align: middle;\n",
       "    }\n",
       "\n",
       "    .dataframe tbody tr th {\n",
       "        vertical-align: top;\n",
       "    }\n",
       "\n",
       "    .dataframe thead th {\n",
       "        text-align: right;\n",
       "    }\n",
       "</style>\n",
       "<table border=\"1\" class=\"dataframe\">\n",
       "  <thead>\n",
       "    <tr style=\"text-align: right;\">\n",
       "      <th></th>\n",
       "      <th>id</th>\n",
       "      <th>name</th>\n",
       "      <th>iso_country</th>\n",
       "      <th>iata_code</th>\n",
       "      <th>icao_code</th>\n",
       "      <th>latitude_deg</th>\n",
       "      <th>longitude_deg</th>\n",
       "      <th>elevation_ft</th>\n",
       "      <th>type</th>\n",
       "      <th>municipality</th>\n",
       "    </tr>\n",
       "  </thead>\n",
       "  <tbody>\n",
       "    <tr>\n",
       "      <th>0</th>\n",
       "      <td>300646</td>\n",
       "      <td>Algeciras Heliport</td>\n",
       "      <td>ES</td>\n",
       "      <td>NaN</td>\n",
       "      <td>NaN</td>\n",
       "      <td>36.128820</td>\n",
       "      <td>-5.441079</td>\n",
       "      <td>98.0</td>\n",
       "      <td>heliport</td>\n",
       "      <td>Algeciras</td>\n",
       "    </tr>\n",
       "    <tr>\n",
       "      <th>1</th>\n",
       "      <td>43818</td>\n",
       "      <td>Pöchlarn-Wörth Heliport</td>\n",
       "      <td>AT</td>\n",
       "      <td>NaN</td>\n",
       "      <td>NaN</td>\n",
       "      <td>48.214737</td>\n",
       "      <td>15.255424</td>\n",
       "      <td>709.0</td>\n",
       "      <td>heliport</td>\n",
       "      <td>Pöchlarn-Wörth</td>\n",
       "    </tr>\n",
       "    <tr>\n",
       "      <th>2</th>\n",
       "      <td>46529</td>\n",
       "      <td>Scalaria Airchallenge Water Landing Area</td>\n",
       "      <td>AT</td>\n",
       "      <td>NaN</td>\n",
       "      <td>NaN</td>\n",
       "      <td>47.734705</td>\n",
       "      <td>13.443832</td>\n",
       "      <td>NaN</td>\n",
       "      <td>seaplane_base</td>\n",
       "      <td>Lake Wolfgang</td>\n",
       "    </tr>\n",
       "    <tr>\n",
       "      <th>3</th>\n",
       "      <td>312150</td>\n",
       "      <td>Bad Tatzmannsdorf PVA Hospital Helipad</td>\n",
       "      <td>AT</td>\n",
       "      <td>NaN</td>\n",
       "      <td>NaN</td>\n",
       "      <td>47.330720</td>\n",
       "      <td>16.222070</td>\n",
       "      <td>1247.0</td>\n",
       "      <td>heliport</td>\n",
       "      <td>Bad Tatzmannsdorf</td>\n",
       "    </tr>\n",
       "    <tr>\n",
       "      <th>4</th>\n",
       "      <td>312153</td>\n",
       "      <td>Güssing Hospital Helipad</td>\n",
       "      <td>AT</td>\n",
       "      <td>NaN</td>\n",
       "      <td>NaN</td>\n",
       "      <td>47.049770</td>\n",
       "      <td>16.321700</td>\n",
       "      <td>731.0</td>\n",
       "      <td>heliport</td>\n",
       "      <td>Güssing</td>\n",
       "    </tr>\n",
       "  </tbody>\n",
       "</table>\n",
       "</div>"
      ],
      "text/plain": [
       "       id                                      name iso_country iata_code  \\\n",
       "0  300646                        Algeciras Heliport          ES       NaN   \n",
       "1   43818                   Pöchlarn-Wörth Heliport          AT       NaN   \n",
       "2   46529  Scalaria Airchallenge Water Landing Area          AT       NaN   \n",
       "3  312150    Bad Tatzmannsdorf PVA Hospital Helipad          AT       NaN   \n",
       "4  312153                  Güssing Hospital Helipad          AT       NaN   \n",
       "\n",
       "  icao_code  latitude_deg  longitude_deg  elevation_ft           type  \\\n",
       "0       NaN     36.128820      -5.441079          98.0       heliport   \n",
       "1       NaN     48.214737      15.255424         709.0       heliport   \n",
       "2       NaN     47.734705      13.443832           NaN  seaplane_base   \n",
       "3       NaN     47.330720      16.222070        1247.0       heliport   \n",
       "4       NaN     47.049770      16.321700         731.0       heliport   \n",
       "\n",
       "        municipality  \n",
       "0          Algeciras  \n",
       "1     Pöchlarn-Wörth  \n",
       "2      Lake Wolfgang  \n",
       "3  Bad Tatzmannsdorf  \n",
       "4            Güssing  "
      ]
     },
     "execution_count": 3,
     "metadata": {},
     "output_type": "execute_result"
    }
   ],
   "source": [
    "df.head()"
   ]
  },
  {
   "cell_type": "code",
   "execution_count": 4,
   "id": "e5a0c49d-885a-4134-988f-0eef09715540",
   "metadata": {},
   "outputs": [
    {
     "data": {
      "text/plain": [
       "(8703, 10)"
      ]
     },
     "execution_count": 4,
     "metadata": {},
     "output_type": "execute_result"
    }
   ],
   "source": [
    "df.shape"
   ]
  },
  {
   "cell_type": "code",
   "execution_count": 5,
   "id": "45b493ef-17a0-4d15-b965-078739b23c6d",
   "metadata": {},
   "outputs": [
    {
     "data": {
      "text/plain": [
       "id                  0\n",
       "name                0\n",
       "iso_country         0\n",
       "iata_code        7993\n",
       "icao_code        7944\n",
       "latitude_deg        0\n",
       "longitude_deg       0\n",
       "elevation_ft     2187\n",
       "type                0\n",
       "municipality     1264\n",
       "dtype: int64"
      ]
     },
     "execution_count": 5,
     "metadata": {},
     "output_type": "execute_result"
    }
   ],
   "source": [
    "df.isnull().sum()"
   ]
  },
  {
   "cell_type": "code",
   "execution_count": 6,
   "id": "c4cdf4c1-8391-423d-864d-3a13bac54376",
   "metadata": {},
   "outputs": [],
   "source": [
    "df[\"elevation_ft\"] = df[\"elevation_ft\"].interpolate()"
   ]
  },
  {
   "cell_type": "code",
   "execution_count": 8,
   "id": "242f6c84-f5fb-441a-af93-2135f0bb8753",
   "metadata": {},
   "outputs": [],
   "source": [
    "df[\"municipality\"] = df[\"municipality\"].fillna(\"Unknown\")"
   ]
  },
  {
   "cell_type": "code",
   "execution_count": null,
   "id": "6079b2b6-db5d-4dc8-848f-497b96e262fd",
   "metadata": {},
   "outputs": [],
   "source": []
  }
 ],
 "metadata": {
  "kernelspec": {
   "display_name": "Python 3 (ipykernel)",
   "language": "python",
   "name": "python3"
  },
  "language_info": {
   "codemirror_mode": {
    "name": "ipython",
    "version": 3
   },
   "file_extension": ".py",
   "mimetype": "text/x-python",
   "name": "python",
   "nbconvert_exporter": "python",
   "pygments_lexer": "ipython3",
   "version": "3.12.7"
  }
 },
 "nbformat": 4,
 "nbformat_minor": 5
}
