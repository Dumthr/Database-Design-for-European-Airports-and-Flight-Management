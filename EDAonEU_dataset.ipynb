{
 "cells": [
  {
   "cell_type": "code",
   "execution_count": 27,
   "id": "5eadad3a-91be-4208-a0f1-5909ff219390",
   "metadata": {},
   "outputs": [],
   "source": [
    "import pandas as pd"
   ]
  },
  {
   "cell_type": "code",
   "execution_count": 28,
   "id": "a1dcc12d-cd26-4a54-b022-f576c9805e59",
   "metadata": {},
   "outputs": [],
   "source": [
    "df = pd.read_csv(\"EU_schedule.csv\")"
   ]
  },
  {
   "cell_type": "code",
   "execution_count": 29,
   "id": "59abf557-379d-41c7-aed0-eda14e3509e4",
   "metadata": {
    "scrolled": true
   },
   "outputs": [
    {
     "data": {
      "text/html": [
       "<div>\n",
       "<style scoped>\n",
       "    .dataframe tbody tr th:only-of-type {\n",
       "        vertical-align: middle;\n",
       "    }\n",
       "\n",
       "    .dataframe tbody tr th {\n",
       "        vertical-align: top;\n",
       "    }\n",
       "\n",
       "    .dataframe thead th {\n",
       "        text-align: right;\n",
       "    }\n",
       "</style>\n",
       "<table border=\"1\" class=\"dataframe\">\n",
       "  <thead>\n",
       "    <tr style=\"text-align: right;\">\n",
       "      <th></th>\n",
       "      <th>schedule</th>\n",
       "      <th>unit</th>\n",
       "      <th>geo</th>\n",
       "      <th>date</th>\n",
       "      <th>value</th>\n",
       "    </tr>\n",
       "  </thead>\n",
       "  <tbody>\n",
       "    <tr>\n",
       "      <th>0</th>\n",
       "      <td>N_SCHED</td>\n",
       "      <td>NR</td>\n",
       "      <td>AL</td>\n",
       "      <td>2019-01-01</td>\n",
       "      <td>28.0</td>\n",
       "    </tr>\n",
       "    <tr>\n",
       "      <th>1</th>\n",
       "      <td>N_SCHED</td>\n",
       "      <td>NR</td>\n",
       "      <td>AT</td>\n",
       "      <td>2019-01-01</td>\n",
       "      <td>2028.0</td>\n",
       "    </tr>\n",
       "    <tr>\n",
       "      <th>2</th>\n",
       "      <td>N_SCHED</td>\n",
       "      <td>NR</td>\n",
       "      <td>BA</td>\n",
       "      <td>2019-01-01</td>\n",
       "      <td>76.0</td>\n",
       "    </tr>\n",
       "    <tr>\n",
       "      <th>3</th>\n",
       "      <td>N_SCHED</td>\n",
       "      <td>NR</td>\n",
       "      <td>BE</td>\n",
       "      <td>2019-01-01</td>\n",
       "      <td>1520.0</td>\n",
       "    </tr>\n",
       "    <tr>\n",
       "      <th>4</th>\n",
       "      <td>N_SCHED</td>\n",
       "      <td>NR</td>\n",
       "      <td>BG</td>\n",
       "      <td>2019-01-01</td>\n",
       "      <td>453.0</td>\n",
       "    </tr>\n",
       "  </tbody>\n",
       "</table>\n",
       "</div>"
      ],
      "text/plain": [
       "  schedule unit geo        date   value\n",
       "0  N_SCHED   NR  AL  2019-01-01    28.0\n",
       "1  N_SCHED   NR  AT  2019-01-01  2028.0\n",
       "2  N_SCHED   NR  BA  2019-01-01    76.0\n",
       "3  N_SCHED   NR  BE  2019-01-01  1520.0\n",
       "4  N_SCHED   NR  BG  2019-01-01   453.0"
      ]
     },
     "execution_count": 29,
     "metadata": {},
     "output_type": "execute_result"
    }
   ],
   "source": [
    "df.head()"
   ]
  },
  {
   "cell_type": "code",
   "execution_count": 30,
   "id": "19df6a0d-6cac-414a-8077-1296ad62e922",
   "metadata": {},
   "outputs": [
    {
     "data": {
      "text/plain": [
       "(34632, 5)"
      ]
     },
     "execution_count": 30,
     "metadata": {},
     "output_type": "execute_result"
    }
   ],
   "source": [
    "df.shape"
   ]
  },
  {
   "cell_type": "code",
   "execution_count": 31,
   "id": "fde74488-52cd-4d78-87ae-0ff42c4f7bb1",
   "metadata": {},
   "outputs": [
    {
     "data": {
      "text/plain": [
       "schedule       0\n",
       "unit           0\n",
       "geo            0\n",
       "date           0\n",
       "value       3654\n",
       "dtype: int64"
      ]
     },
     "execution_count": 31,
     "metadata": {},
     "output_type": "execute_result"
    }
   ],
   "source": [
    "df.isnull().sum()"
   ]
  },
  {
   "cell_type": "code",
   "execution_count": 32,
   "id": "744452ae-0243-405e-a0b4-2dbd393bd40c",
   "metadata": {},
   "outputs": [
    {
     "data": {
      "text/html": [
       "<div>\n",
       "<style scoped>\n",
       "    .dataframe tbody tr th:only-of-type {\n",
       "        vertical-align: middle;\n",
       "    }\n",
       "\n",
       "    .dataframe tbody tr th {\n",
       "        vertical-align: top;\n",
       "    }\n",
       "\n",
       "    .dataframe thead th {\n",
       "        text-align: right;\n",
       "    }\n",
       "</style>\n",
       "<table border=\"1\" class=\"dataframe\">\n",
       "  <thead>\n",
       "    <tr style=\"text-align: right;\">\n",
       "      <th></th>\n",
       "      <th>schedule</th>\n",
       "      <th>unit</th>\n",
       "      <th>geo</th>\n",
       "      <th>date</th>\n",
       "      <th>value</th>\n",
       "    </tr>\n",
       "  </thead>\n",
       "  <tbody>\n",
       "    <tr>\n",
       "      <th>34627</th>\n",
       "      <td>TOTAL</td>\n",
       "      <td>PCH_SM_19</td>\n",
       "      <td>SE</td>\n",
       "      <td>2025-02-01</td>\n",
       "      <td>-31.5</td>\n",
       "    </tr>\n",
       "    <tr>\n",
       "      <th>34628</th>\n",
       "      <td>TOTAL</td>\n",
       "      <td>PCH_SM_19</td>\n",
       "      <td>SI</td>\n",
       "      <td>2025-02-01</td>\n",
       "      <td>-8.9</td>\n",
       "    </tr>\n",
       "    <tr>\n",
       "      <th>34629</th>\n",
       "      <td>TOTAL</td>\n",
       "      <td>PCH_SM_19</td>\n",
       "      <td>SK</td>\n",
       "      <td>2025-02-01</td>\n",
       "      <td>-12.3</td>\n",
       "    </tr>\n",
       "    <tr>\n",
       "      <th>34630</th>\n",
       "      <td>TOTAL</td>\n",
       "      <td>PCH_SM_19</td>\n",
       "      <td>TR</td>\n",
       "      <td>2025-02-01</td>\n",
       "      <td>12.0</td>\n",
       "    </tr>\n",
       "    <tr>\n",
       "      <th>34631</th>\n",
       "      <td>TOTAL</td>\n",
       "      <td>PCH_SM_19</td>\n",
       "      <td>UK</td>\n",
       "      <td>2025-02-01</td>\n",
       "      <td>-5.2</td>\n",
       "    </tr>\n",
       "  </tbody>\n",
       "</table>\n",
       "</div>"
      ],
      "text/plain": [
       "      schedule       unit geo        date  value\n",
       "34627    TOTAL  PCH_SM_19  SE  2025-02-01  -31.5\n",
       "34628    TOTAL  PCH_SM_19  SI  2025-02-01   -8.9\n",
       "34629    TOTAL  PCH_SM_19  SK  2025-02-01  -12.3\n",
       "34630    TOTAL  PCH_SM_19  TR  2025-02-01   12.0\n",
       "34631    TOTAL  PCH_SM_19  UK  2025-02-01   -5.2"
      ]
     },
     "execution_count": 32,
     "metadata": {},
     "output_type": "execute_result"
    }
   ],
   "source": [
    "df.tail()"
   ]
  },
  {
   "cell_type": "code",
   "execution_count": 33,
   "id": "410c3bfe-304c-4aa7-84cc-6f26ae66e9ac",
   "metadata": {},
   "outputs": [
    {
     "data": {
      "text/plain": [
       "count     30978.000000\n",
       "mean       7307.421661\n",
       "std       39608.463763\n",
       "min         -99.300000\n",
       "25%          -9.400000\n",
       "50%          10.200000\n",
       "75%         427.900000\n",
       "max      702675.000000\n",
       "Name: value, dtype: float64"
      ]
     },
     "execution_count": 33,
     "metadata": {},
     "output_type": "execute_result"
    }
   ],
   "source": [
    "df[\"value\"].describe()"
   ]
  },
  {
   "cell_type": "code",
   "execution_count": 34,
   "id": "8e8961fe-f2e9-4a6d-beec-f57cec7d41c2",
   "metadata": {},
   "outputs": [
    {
     "data": {
      "text/html": [
       "<div>\n",
       "<style scoped>\n",
       "    .dataframe tbody tr th:only-of-type {\n",
       "        vertical-align: middle;\n",
       "    }\n",
       "\n",
       "    .dataframe tbody tr th {\n",
       "        vertical-align: top;\n",
       "    }\n",
       "\n",
       "    .dataframe thead th {\n",
       "        text-align: right;\n",
       "    }\n",
       "</style>\n",
       "<table border=\"1\" class=\"dataframe\">\n",
       "  <thead>\n",
       "    <tr style=\"text-align: right;\">\n",
       "      <th></th>\n",
       "      <th>schedule</th>\n",
       "      <th>unit</th>\n",
       "      <th>geo</th>\n",
       "      <th>date</th>\n",
       "      <th>value</th>\n",
       "    </tr>\n",
       "  </thead>\n",
       "  <tbody>\n",
       "    <tr>\n",
       "      <th>509</th>\n",
       "      <td>N_SCHED</td>\n",
       "      <td>PCH_M1</td>\n",
       "      <td>BA</td>\n",
       "      <td>2019-02-01</td>\n",
       "      <td>-10.5</td>\n",
       "    </tr>\n",
       "    <tr>\n",
       "      <th>510</th>\n",
       "      <td>N_SCHED</td>\n",
       "      <td>PCH_M1</td>\n",
       "      <td>BE</td>\n",
       "      <td>2019-02-01</td>\n",
       "      <td>-12.0</td>\n",
       "    </tr>\n",
       "    <tr>\n",
       "      <th>514</th>\n",
       "      <td>N_SCHED</td>\n",
       "      <td>PCH_M1</td>\n",
       "      <td>CZ</td>\n",
       "      <td>2019-02-01</td>\n",
       "      <td>-2.9</td>\n",
       "    </tr>\n",
       "    <tr>\n",
       "      <th>516</th>\n",
       "      <td>N_SCHED</td>\n",
       "      <td>PCH_M1</td>\n",
       "      <td>DK</td>\n",
       "      <td>2019-02-01</td>\n",
       "      <td>-2.2</td>\n",
       "    </tr>\n",
       "    <tr>\n",
       "      <th>517</th>\n",
       "      <td>N_SCHED</td>\n",
       "      <td>PCH_M1</td>\n",
       "      <td>EE</td>\n",
       "      <td>2019-02-01</td>\n",
       "      <td>-0.5</td>\n",
       "    </tr>\n",
       "    <tr>\n",
       "      <th>...</th>\n",
       "      <td>...</td>\n",
       "      <td>...</td>\n",
       "      <td>...</td>\n",
       "      <td>...</td>\n",
       "      <td>...</td>\n",
       "    </tr>\n",
       "    <tr>\n",
       "      <th>34625</th>\n",
       "      <td>TOTAL</td>\n",
       "      <td>PCH_SM_19</td>\n",
       "      <td>RO</td>\n",
       "      <td>2025-02-01</td>\n",
       "      <td>-0.8</td>\n",
       "    </tr>\n",
       "    <tr>\n",
       "      <th>34627</th>\n",
       "      <td>TOTAL</td>\n",
       "      <td>PCH_SM_19</td>\n",
       "      <td>SE</td>\n",
       "      <td>2025-02-01</td>\n",
       "      <td>-31.5</td>\n",
       "    </tr>\n",
       "    <tr>\n",
       "      <th>34628</th>\n",
       "      <td>TOTAL</td>\n",
       "      <td>PCH_SM_19</td>\n",
       "      <td>SI</td>\n",
       "      <td>2025-02-01</td>\n",
       "      <td>-8.9</td>\n",
       "    </tr>\n",
       "    <tr>\n",
       "      <th>34629</th>\n",
       "      <td>TOTAL</td>\n",
       "      <td>PCH_SM_19</td>\n",
       "      <td>SK</td>\n",
       "      <td>2025-02-01</td>\n",
       "      <td>-12.3</td>\n",
       "    </tr>\n",
       "    <tr>\n",
       "      <th>34631</th>\n",
       "      <td>TOTAL</td>\n",
       "      <td>PCH_SM_19</td>\n",
       "      <td>UK</td>\n",
       "      <td>2025-02-01</td>\n",
       "      <td>-5.2</td>\n",
       "    </tr>\n",
       "  </tbody>\n",
       "</table>\n",
       "<p>11328 rows × 5 columns</p>\n",
       "</div>"
      ],
      "text/plain": [
       "      schedule       unit geo        date  value\n",
       "509    N_SCHED     PCH_M1  BA  2019-02-01  -10.5\n",
       "510    N_SCHED     PCH_M1  BE  2019-02-01  -12.0\n",
       "514    N_SCHED     PCH_M1  CZ  2019-02-01   -2.9\n",
       "516    N_SCHED     PCH_M1  DK  2019-02-01   -2.2\n",
       "517    N_SCHED     PCH_M1  EE  2019-02-01   -0.5\n",
       "...        ...        ...  ..         ...    ...\n",
       "34625    TOTAL  PCH_SM_19  RO  2025-02-01   -0.8\n",
       "34627    TOTAL  PCH_SM_19  SE  2025-02-01  -31.5\n",
       "34628    TOTAL  PCH_SM_19  SI  2025-02-01   -8.9\n",
       "34629    TOTAL  PCH_SM_19  SK  2025-02-01  -12.3\n",
       "34631    TOTAL  PCH_SM_19  UK  2025-02-01   -5.2\n",
       "\n",
       "[11328 rows x 5 columns]"
      ]
     },
     "execution_count": 34,
     "metadata": {},
     "output_type": "execute_result"
    }
   ],
   "source": [
    "df[df[\"value\"] < 0]"
   ]
  },
  {
   "cell_type": "code",
   "execution_count": 35,
   "id": "d4ecde1b-088c-42f0-b56e-f07e7938ae82",
   "metadata": {},
   "outputs": [],
   "source": [
    "df[\"value\"] = df[\"value\"].interpolate()"
   ]
  },
  {
   "cell_type": "code",
   "execution_count": 36,
   "id": "77a36a89-bab2-468e-8c3d-837f1fa8d5a4",
   "metadata": {},
   "outputs": [
    {
     "data": {
      "text/html": [
       "<div>\n",
       "<style scoped>\n",
       "    .dataframe tbody tr th:only-of-type {\n",
       "        vertical-align: middle;\n",
       "    }\n",
       "\n",
       "    .dataframe tbody tr th {\n",
       "        vertical-align: top;\n",
       "    }\n",
       "\n",
       "    .dataframe thead th {\n",
       "        text-align: right;\n",
       "    }\n",
       "</style>\n",
       "<table border=\"1\" class=\"dataframe\">\n",
       "  <thead>\n",
       "    <tr style=\"text-align: right;\">\n",
       "      <th></th>\n",
       "      <th>schedule</th>\n",
       "      <th>unit</th>\n",
       "      <th>geo</th>\n",
       "      <th>date</th>\n",
       "      <th>value</th>\n",
       "    </tr>\n",
       "  </thead>\n",
       "  <tbody>\n",
       "    <tr>\n",
       "      <th>0</th>\n",
       "      <td>N_SCHED</td>\n",
       "      <td>NR</td>\n",
       "      <td>AL</td>\n",
       "      <td>2019-01-01</td>\n",
       "      <td>28.0</td>\n",
       "    </tr>\n",
       "    <tr>\n",
       "      <th>1</th>\n",
       "      <td>N_SCHED</td>\n",
       "      <td>NR</td>\n",
       "      <td>AT</td>\n",
       "      <td>2019-01-01</td>\n",
       "      <td>2028.0</td>\n",
       "    </tr>\n",
       "    <tr>\n",
       "      <th>2</th>\n",
       "      <td>N_SCHED</td>\n",
       "      <td>NR</td>\n",
       "      <td>BA</td>\n",
       "      <td>2019-01-01</td>\n",
       "      <td>76.0</td>\n",
       "    </tr>\n",
       "    <tr>\n",
       "      <th>3</th>\n",
       "      <td>N_SCHED</td>\n",
       "      <td>NR</td>\n",
       "      <td>BE</td>\n",
       "      <td>2019-01-01</td>\n",
       "      <td>1520.0</td>\n",
       "    </tr>\n",
       "    <tr>\n",
       "      <th>4</th>\n",
       "      <td>N_SCHED</td>\n",
       "      <td>NR</td>\n",
       "      <td>BG</td>\n",
       "      <td>2019-01-01</td>\n",
       "      <td>453.0</td>\n",
       "    </tr>\n",
       "  </tbody>\n",
       "</table>\n",
       "</div>"
      ],
      "text/plain": [
       "  schedule unit geo        date   value\n",
       "0  N_SCHED   NR  AL  2019-01-01    28.0\n",
       "1  N_SCHED   NR  AT  2019-01-01  2028.0\n",
       "2  N_SCHED   NR  BA  2019-01-01    76.0\n",
       "3  N_SCHED   NR  BE  2019-01-01  1520.0\n",
       "4  N_SCHED   NR  BG  2019-01-01   453.0"
      ]
     },
     "execution_count": 36,
     "metadata": {},
     "output_type": "execute_result"
    }
   ],
   "source": [
    "df.head()"
   ]
  },
  {
   "cell_type": "code",
   "execution_count": 37,
   "id": "15578f36-fd43-45db-91d8-ce0fbbb310b0",
   "metadata": {},
   "outputs": [
    {
     "data": {
      "text/plain": [
       "schedule    0\n",
       "unit        0\n",
       "geo         0\n",
       "date        0\n",
       "value       0\n",
       "dtype: int64"
      ]
     },
     "execution_count": 37,
     "metadata": {},
     "output_type": "execute_result"
    }
   ],
   "source": [
    "df.isnull().sum()"
   ]
  },
  {
   "cell_type": "code",
   "execution_count": null,
   "id": "f63093e9-b4b0-4ae4-b135-8297e4e911f5",
   "metadata": {},
   "outputs": [],
   "source": []
  }
 ],
 "metadata": {
  "kernelspec": {
   "display_name": "Python 3 (ipykernel)",
   "language": "python",
   "name": "python3"
  },
  "language_info": {
   "codemirror_mode": {
    "name": "ipython",
    "version": 3
   },
   "file_extension": ".py",
   "mimetype": "text/x-python",
   "name": "python",
   "nbconvert_exporter": "python",
   "pygments_lexer": "ipython3",
   "version": "3.12.7"
  }
 },
 "nbformat": 4,
 "nbformat_minor": 5
}
